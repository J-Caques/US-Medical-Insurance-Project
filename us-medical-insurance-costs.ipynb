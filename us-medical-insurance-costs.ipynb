{
 "cells": [
  {
   "cell_type": "markdown",
   "metadata": {},
   "source": [
    "# U.S. Medical Insurance Costs\n",
    "\n",
    "For this project, a CSV file, **insurance.csv**, will be analyzed. It contains the medical cost for each patient, along with other attributes (i.e. age, sex, bmi).\n",
    "\n",
    "The goal of this project is to analyze each attribute, learn some key information, and then see if there is any insight that can be obtained from each analyzation"
   ]
  },
  {
   "cell_type": "code",
   "execution_count": 299,
   "metadata": {},
   "outputs": [],
   "source": [
    "import csv\n",
    "\n",
    "# Lists for each attribute in Insurance.csv\n",
    "age_list = []\n",
    "sexes_list = []\n",
    "bmi_list = []\n",
    "children_list = []\n",
    "smoker_list = []\n",
    "region_list = []\n",
    "charges_list = []"
   ]
  },
  {
   "cell_type": "markdown",
   "metadata": {},
   "source": [
    "We start off by importing the csv library so that we can read from the csv file, **insurance.csv**\n",
    "\n",
    "Next empty lists are created for each attribute. When gathering each patient's attributes, it will be placed in the corresponding list. This will make analyzing each attribute easier."
   ]
  },
  {
   "cell_type": "code",
   "execution_count": 530,
   "metadata": {},
   "outputs": [
    {
     "name": "stdout",
     "output_type": "stream",
     "text": [
      "5139\n"
     ]
    }
   ],
   "source": [
    "# Function that adds values of each attribute from the file to the corresponding list\n",
    "def read_file(list , attribute,):\n",
    "    with open('insurance.csv') as insurance_file:\n",
    "        insurance_reader = csv.DictReader(insurance_file)\n",
    "        \n",
    "        # For loop that goes through each row of the file\n",
    "        for row in insurance_reader:\n",
    "                list.append(row[attribute])\n",
    "\n",
    "    return list\n",
    "\n",
    "# Save values of each attribute to its corresponding list\n",
    "read_file(age_list , 'age')\n",
    "read_file(sexes_list , 'sex')\n",
    "read_file(bmi_list , 'bmi')\n",
    "read_file(children_list , 'children')\n",
    "read_file(smoker_list , 'smoker')\n",
    "read_file(region_list, 'region')\n",
    "read_file(charges_list , 'charges')\n",
    "\n",
    "print(age_list[400] + age_list[450])"
   ]
  },
  {
   "cell_type": "markdown",
   "metadata": {},
   "source": [
    "A function is created to read the csv file. It takes in two parameters, *list* and *attribute*. Using the csv library, the **insurance.csv** file is read, saved as ***insurance_file***. A for loop goes through each row of patient information and adds the *attribute* to the corresponding *list*.\n",
    "\n",
    "We then call the function for each attribute list."
   ]
  },
  {
   "cell_type": "code",
   "execution_count": 448,
   "metadata": {
    "scrolled": true
   },
   "outputs": [],
   "source": [
    "# Function for finding the average\n",
    "def average(list, datatype):\n",
    "    sum = 0\n",
    "    for i in list:\n",
    "        sum += datatype(i)\n",
    "    avg = round(sum / len(list),2)\n",
    "    return avg"
   ]
  },
  {
   "cell_type": "markdown",
   "metadata": {},
   "source": [
    "This function helps find the average of the values inside a list. It takes in two parameters, ***list*** and ***datatype***. The reason for including the ***datatype*** is because not all values are whole numbers, some are floats (charges, bmi).\n",
    "\n",
    "Using a for loop, a ***sum*** variable is incremented with each value in the list. Finally the average, ***avg***, is found by taking the ***sum*** and divding by the length of the ***list***. The function then returns ***avg***."
   ]
  },
  {
   "cell_type": "code",
   "execution_count": 449,
   "metadata": {},
   "outputs": [
    {
     "name": "stdout",
     "output_type": "stream",
     "text": [
      "The average age is: 39.31891891891892\n",
      "The average bmi is: 30.66\n",
      "The average charge is: 13270.42\n"
     ]
    }
   ],
   "source": [
    "# Averages of age, bmi, & charges\n",
    "age_avg = int(average(age_list, int))\n",
    "bmi_avg = round(average(bmi_list, float),2)\n",
    "charge_avg = round(average(charges_list, float),2)\n",
    "\n",
    "print(\"The average age is: \" + str(avg_age))\n",
    "print(\"The average bmi is: \" + str(bmi_avg))\n",
    "print(\"The average charge is: \" + str(charge_avg))"
   ]
  },
  {
   "cell_type": "markdown",
   "metadata": {},
   "source": [
    "This shows the average age, bmi, and charge of the insurance record as a whole.\n",
    "\n",
    "It doesn't show much, but an overall idea can be formed of the data as a whole. The average bmi is on the high end, indicating that many on the insurance records are overweight, which can increase insurance cost."
   ]
  },
  {
   "cell_type": "code",
   "execution_count": 367,
   "metadata": {},
   "outputs": [
    {
     "name": "stdout",
     "output_type": "stream",
     "text": [
      "There are 2028 males\n",
      "There are 1986 females\n",
      "There are 1.02 more males than females\n"
     ]
    }
   ],
   "source": [
    "# Find ration of males to females\n",
    "def sexes_ratio(sexes):\n",
    "\n",
    "    # Male, female variables to keep count\n",
    "    males = 0\n",
    "    females = 0\n",
    "    \n",
    "    # For loop gathering counts for males and females\n",
    "    for i in sexes:\n",
    "        if i == 'male':\n",
    "            males += 1\n",
    "        elif i == 'female':\n",
    "            females += 1\n",
    "    \n",
    "    # Find ratio of males\n",
    "    ratio = round(males / females,2)\n",
    "    \n",
    "    print(\"There are \" + str(males) + \" males\")\n",
    "    print(\"There are \" + str(females) + \" females\")\n",
    "    \n",
    "    if ratio < 1:\n",
    "        print(\"There are \" + str(ratio) + \" less males than females.\")\n",
    "    elif ratio > 1:\n",
    "        print(\"There are \" + str(ratio) + \" more males than females.\")\n",
    "        \n",
    "    return ratio\n",
    "\n",
    "sex_ratio = sexes_ratio(sexes_list)\n",
    "    "
   ]
  },
  {
   "cell_type": "markdown",
   "metadata": {},
   "source": [
    "The function sexes_ratio takes in the list ***sexes_list*** as parameter. A for loop then counts the number of instances of ***'male'*** and ***'female'***. Afterwards it finds the ratio of men to women, returning ***ratio***.\n",
    "\n",
    "There are 1.02 more males than females in the insurance record. This can be expected as it correlates with statistics, showing that the number of males and females can be about the same, but if not, then there are slightly more males than females in a population. \n",
    "\n",
    "(Web link of correlating statistic):\n",
    "\n",
    "https://www.ined.fr/en/everything_about_population/demographic-facts-sheets/faq/more-men-or-women-in-the-world/#:~:text=The%20number%20of%20men%20and,100%20women%20(in%202020)."
   ]
  },
  {
   "cell_type": "code",
   "execution_count": 372,
   "metadata": {},
   "outputs": [
    {
     "name": "stdout",
     "output_type": "stream",
     "text": [
      "There are 1096 people who smoke.\n",
      "There are 4256 people who don't smoke.\n",
      "There are 0.26 less smokers than non-smokers.\n"
     ]
    }
   ],
   "source": [
    "# Find ratio of smokers to non-smokers\n",
    "def smoker_ratio(smoker_list):\n",
    "    smoker = 0\n",
    "    non_smoker = 0\n",
    "    \n",
    "    for i in smoker_list:\n",
    "        if i == 'yes':\n",
    "            smoker += 1\n",
    "        elif i == 'no':\n",
    "            non_smoker += 1\n",
    "    \n",
    "    ratio = round(smoker / non_smoker,2)\n",
    "    \n",
    "    print(\"There are \" + str(smoker) + \" people who smoke.\")\n",
    "    print(\"There are \" + str(non_smoker) + \" people who don't smoke.\")\n",
    "    \n",
    "    if ratio < 1:\n",
    "         print(\"There are \" + str(ratio) + \" less smokers than non-smokers.\")\n",
    "    elif ratio < 1:\n",
    "         print(\"There are \" + str(ratio) + \" less smokers than non-smokers.\")\n",
    "            \n",
    "    return ratio\n",
    "\n",
    "smoker_ratio = smoker_ratio(smoker_list)"
   ]
  },
  {
   "cell_type": "markdown",
   "metadata": {},
   "source": [
    "A function was also created to find the ratio of smokers to non-smokers, taking in ***smoker_list*** as a parameter.\n",
    "A ***smoker_count*** and ***non_smoker_count*** was created to keep track of the counts.\n",
    "\n",
    "The function works similarly like the sexes_ratio function, except in this case the values inside the list are strings.\n",
    "\n",
    "In the for loop, if a value in ***smoker_list*** was *'yes'*, then smoker_count was incremented by 1. If it was *'no\"* then ***non_smoker_count*** was incremented by 1. A ***ratio*** of smokers to non-smokers is found and returned by the function.\n",
    "\n",
    "There are actually less smokers to non-smokers, which correlates with findings that the rates of smoking is decreasing in the US.\n",
    "\n",
    "(Web link that shows smoking rate in the U.S. is decreasing):\n",
    "\n",
    "https://www.cdc.gov/tobacco/data_statistics/fact_sheets/adult_data/cig_smoking/index.htm"
   ]
  },
  {
   "cell_type": "code",
   "execution_count": 388,
   "metadata": {},
   "outputs": [
    {
     "name": "stdout",
     "output_type": "stream",
     "text": [
      "The average age of a smoker is: 38.49\n",
      "The average age of a non-smoker is: 39.39\n"
     ]
    }
   ],
   "source": [
    "# Create a list of ages of smokers and non-smokers\n",
    "ages_of_smokers = []\n",
    "ages_of_non_smokers = []\n",
    "\n",
    "# length of list; all list have the same length\n",
    "length = len(age_list)\n",
    "\n",
    "#for loop that places ages in corresponding smoking and non-smoking lists\n",
    "for i in range(0,(length-1)):\n",
    "    if smoker_list[i] == 'yes':\n",
    "        ages_of_smokers.append(age_list[i])\n",
    "    elif smoker_list[i] == 'no':\n",
    "        ages_of_non_smokers.append(age_list[i])\n",
    "\n",
    "# Find average age of smokers and non-smokers\n",
    "avg_age_smoker = average(ages_of_smokers, int)\n",
    "avg_age_non_smoker = average(ages_of_non_smokers, int)\n",
    "\n",
    "print(\"The average age of a smoker is: \" + str(avg_age_smoker))\n",
    "print(\"The average age of a non-smoker is: \" + str(avg_age_non_smoker))"
   ]
  },
  {
   "cell_type": "markdown",
   "metadata": {},
   "source": [
    "Two lists are created, ***ages_of_smokers*** and ***ages_of_non_smokers***. \n",
    "\n",
    "A for loop goes through each patient row in the insurance file. It checks if that patient is smokes. If they do, their age is placed in the ***ages_of_smokers***. If not, then their age is placed in ***ages_of_non_smokers***.\n",
    "\n",
    "The average age of each list is found using the previous ***average*** function.\n",
    "\n",
    "It's interesting that the average ages of both the smoker and non-smokers are nearly identical, and are close to the average age of the insurance record as a whole. This could indicate that there are outliers or a large amount of values that could be skewing the data. The **age_list** requires further analysis."
   ]
  },
  {
   "cell_type": "code",
   "execution_count": 413,
   "metadata": {},
   "outputs": [],
   "source": [
    "# Function that merges values with its corresponding region\n",
    "def region_values(region_list, values_list, northeast_values, northwest_values, southeast_values, southwest_values ):\n",
    "\n",
    "# For loop placing each respective value in the corresponding region list    \n",
    "    for i in range(0,length-1):\n",
    "        if region_list[i] == 'northeast':\n",
    "            northeast_values.append(values_list[i])\n",
    "        elif region_list[i] == 'northwest':\n",
    "            northwest_values.append(values_list[i])\n",
    "        elif region_list[i] == 'southeast':\n",
    "            southeast_values.append(values_list[i])\n",
    "        elif region_list[i] == 'southwest':\n",
    "            southwest_values.append(values_list[i])\n",
    "        "
   ]
  },
  {
   "cell_type": "markdown",
   "metadata": {},
   "source": [
    "This function takes 6 parameters: region_list, values_list, and the list for each different region.\n",
    "\n",
    "The purpose of this function is to go through each patient row of that insurance. If a patient is from a particular region, their corresponding attribute (***values_list***) will be placed in the list for that corresponding region.\n",
    "\n",
    "This allows to anaylze each ***region*** by each ***attribute*** (i.e. average bmi of the southwest). "
   ]
  },
  {
   "cell_type": "code",
   "execution_count": 416,
   "metadata": {
    "scrolled": true
   },
   "outputs": [
    {
     "name": "stdout",
     "output_type": "stream",
     "text": [
      "[]\n",
      "The average BMI in the northeast region is: 29.17\n",
      "The average BMI in the northwest region is: 29.2\n",
      "The average BMI in the southeast region is: 33.36\n",
      "The average BMI in the southwest region is: 30.6\n"
     ]
    }
   ],
   "source": [
    "# Find average BMI by region\n",
    "\n",
    "# Create an empty list for each region's BMIs\n",
    "northeast_bmis = []\n",
    "northwest_bmis = []\n",
    "southeast_bmis = []\n",
    "southwest_bmis = []\n",
    "\n",
    "region_values(region_list, bmi_list, northeast_bmis,northwest_bmis,southeast_bmis,southwest_bmis)\n",
    "\n",
    "print(northeast_values)\n",
    "\n",
    "\n",
    "# Find average BMI for each region\n",
    "avg_bmis_northeast = round(average(northeast_bmis, float),2)\n",
    "avg_bmis_northwest = round(average(northwest_bmis, float),2)\n",
    "avg_bmis_southeast = round(average(southeast_bmis, float),2)\n",
    "avg_bmis_southwest = round(average(southwest_bmis, float),2)\n",
    "\n",
    "print(\"The average BMI in the northeast region is: \" + str(avg_bmis_northeast))\n",
    "print(\"The average BMI in the northwest region is: \" + str(avg_bmis_northwest))\n",
    "print(\"The average BMI in the southeast region is: \" + str(avg_bmis_southeast))\n",
    "print(\"The average BMI in the southwest region is: \" + str(avg_bmis_southwest))"
   ]
  },
  {
   "cell_type": "markdown",
   "metadata": {},
   "source": [
    "Here the BMI for each region is found using the ***region_values*** function.\n",
    "\n",
    "Afterwards, the average BMI for each region is found using the ***average*** function. \n",
    "\n",
    "It's to be expected that the average BMIs in the southern regions are higher than the northern regions. Studies show that the south has higher rates of obesity than the north.\n",
    "\n",
    "(Web link showing that the south has higher rates of obesity):\n",
    "\n",
    "https://www.cdc.gov/obesity/data/prevalence-maps.html"
   ]
  },
  {
   "cell_type": "code",
   "execution_count": 419,
   "metadata": {},
   "outputs": [
    {
     "name": "stdout",
     "output_type": "stream",
     "text": [
      "The average charge in the northeast region is: 13406.38\n",
      "The average charge in the northwest region is: 12404.7\n",
      "The average charge in the southeast region is: 14735.41\n",
      "The average charge in the southwest region is: 12346.94\n"
     ]
    }
   ],
   "source": [
    "# Find average charges in each region\n",
    "\n",
    "# Empty list for each region\n",
    "northeast_charges = []\n",
    "northwest_charges = []\n",
    "southeast_charges = []\n",
    "southwest_charges = []\n",
    "\n",
    "# Calling region_values function to get values for each corresponding list\n",
    "region_values(region_list, charges_list, northeast_charges, northwest_charges, southeast_charges, southwest_charges)\n",
    "\n",
    "# Find average charges in each region\n",
    "avg_charge_northeast = round(average(northeast_charges, float),2)\n",
    "avg_charge_northwest = round(average(northwest_charges, float),2)\n",
    "avg_charge_southeast = round(average(southeast_charges, float),2)\n",
    "avg_charge_southwest = round(average(southwest_charges, float),2)\n",
    "\n",
    "print(\"The average charge in the northeast region is: \" + str(avg_charge_northeast))\n",
    "print(\"The average charge in the northwest region is: \" + str(avg_charge_northwest))\n",
    "print(\"The average charge in the southeast region is: \" + str(avg_charge_southeast))\n",
    "print(\"The average charge in the southwest region is: \" + str(avg_charge_southwest))"
   ]
  },
  {
   "cell_type": "markdown",
   "metadata": {},
   "source": [
    "I made a prediction that based on the average BMIs in each region, the average charge in each region would have a reflect their average BMIs. High BMIs would mean higher charges, while lower BMIs would mean lower charges.\n",
    "\n",
    "Using the same method for finding the average BMIs, the average charge for each region was found.\n",
    "\n",
    "It correlated almost with my hypothesis. The southeast having a high BMI average, also had a higher average charge. However, the northeast, which had the lowest average BMI, had the second highest BMI.\n",
    "\n",
    "Perhaps other attibutes in the northeast affected the average charge. It could also be that there are outliers within the northeastern group."
   ]
  },
  {
   "cell_type": "code",
   "execution_count": 650,
   "metadata": {},
   "outputs": [
    {
     "name": "stdout",
     "output_type": "stream",
     "text": [
      "There are 268 smokers in the northeast\n",
      "There are 231 smokers in the northwest\n",
      "There are 364 smokers in the southeast\n",
      "There are 364 smokers in the southwest\n"
     ]
    }
   ],
   "source": [
    "# Function that counts number of smokers in each region\n",
    "def smoker_count(region_smokers):\n",
    "    smoker_count = 0\n",
    "    \n",
    "    for i in region_smokers:\n",
    "        if i == 'no':\n",
    "            continue\n",
    "        elif i == \"yes\":\n",
    "            smoker_count += 1\n",
    "    return smoker_count\n",
    "\n",
    "\n",
    "# Empty list for each region of smokers\n",
    "northeast_smokers = []\n",
    "northwest_smokers = []\n",
    "southeast_smokers = []\n",
    "southwest_smokers = []\n",
    "\n",
    "# Calling the function region_values to store each value to the corresponding region\n",
    "region_values(region_list, smoker_list, northeast_smokers, northwest_smokers, southeast_smokers,\n",
    "              southwest_smokers)\n",
    "\n",
    "# Getting the smoker_count for each region\n",
    "NE_smoker_count = smoker_count(northeast_smokers)\n",
    "NW_smoker_count = smoker_count(northwest_smokers)\n",
    "SE_smoker_count = smoker_count(southeast_smokers)\n",
    "SW_smoker_count = smoker_count(southeast_smokers)\n",
    "\n",
    "print(\"There are \" + str(NE_smoker_count) + ' smokers in the northeast')\n",
    "print(\"There are \" + str(NW_smoker_count)  + ' smokers in the northwest')\n",
    "print(\"There are \" + str(SE_smoker_count) + ' smokers in the southeast')\n",
    "print(\"There are \" + str(SW_smoker_count) + ' smokers in the southwest')\n"
   ]
  },
  {
   "cell_type": "markdown",
   "metadata": {},
   "source": [
    "As shown, the northern regions have less smokers than the southern regions, which doesn't account for why the northeast has the second highest, average charge. Further anaylsis of each region's attributes is required.\n",
    "\n",
    "It would be interesting to further analyize the smokers in each region, perhaps seeing the amount in each age bracket. For example, if a large amount of people between the ages 18-20 were smokers in each region, this could indicate anti-smoking PSA's are perhaps not as effective in deterring the youth from smoking."
   ]
  },
  {
   "cell_type": "code",
   "execution_count": 441,
   "metadata": {},
   "outputs": [
    {
     "name": "stdout",
     "output_type": "stream",
     "text": [
      "There are 1356 children in the northeast\n",
      "There are 1492 children in the northwest\n",
      "There are 1528 children in the southeast\n",
      "There are 1528 children in the southwest\n"
     ]
    }
   ],
   "source": [
    "# Function counting number of children per region\n",
    "def children_count(region_children):\n",
    "    children_count = 0\n",
    "    \n",
    "    for i in region_children:\n",
    "        children_count += int(i)\n",
    "\n",
    "    return children_count\n",
    "\n",
    "# Empty list for each region of smokers\n",
    "northeast_children = []\n",
    "northwest_children = []\n",
    "southeast_children = []\n",
    "southwest_children = []\n",
    "\n",
    "region_values(region_list, children_list, northeast_children, northwest_children, southeast_children,\n",
    "              southwest_children)\n",
    "\n",
    "# Getting the children_count for each region\n",
    "NE_children_count = children_count(northeast_children)\n",
    "NW_children_count = children_count(northwest_children)\n",
    "SE_children_count = children_count(southeast_children)\n",
    "SW_children_count = children_count(southeast_children)\n",
    "\n",
    "print(\"There are \" + str(NE_children_count) + ' children in the northeast')\n",
    "print(\"There are \" + str(NW_children_count)  + ' children in the northwest')\n",
    "print(\"There are \" + str(SE_children_count) + ' children in the southeast')\n",
    "print(\"There are \" + str(SW_children_count) + ' children in the southwest')"
   ]
  },
  {
   "cell_type": "markdown",
   "metadata": {},
   "source": [
    "The number of children in each region were found. There was any significant difference to indicate that the northeast would have a higher average charge.\n",
    "\n",
    "Also, the number of children in a region doesn't really reflect much on the cost, considering families with more children are more likely to have higher costs than those with 1 child. Perhaps one region has families with larger numbers than another region. It might be beneficial to create a dictionary with the number of children as a key and have the corresponding charges as the value for each key."
   ]
  },
  {
   "cell_type": "code",
   "execution_count": 445,
   "metadata": {},
   "outputs": [
    {
     "name": "stdout",
     "output_type": "stream",
     "text": [
      "There are 652 and 644 in the northeast\n",
      "There are 644 and 655 in the northwest\n",
      "There are 756 and 700 in the southeast\n",
      "There are 652 and 648 in the southwest\n"
     ]
    }
   ],
   "source": [
    "# Function counting number of males and females per region\n",
    "def sexes_count(region_sexes):\n",
    "    male_count = 0\n",
    "    female_count = 0\n",
    "    \n",
    "    for i in region_sexes:\n",
    "        if i == 'male':\n",
    "            male_count += 1\n",
    "        elif i == 'female':\n",
    "            female_count += 1\n",
    "    return male_count, female_count\n",
    "\n",
    "# Empty list for sexes of each region\n",
    "northeast_sexes = []\n",
    "northwest_sexes = []\n",
    "southeast_sexes = []\n",
    "southwest_sexes = []\n",
    "\n",
    "region_values(region_list, sexes_list, northeast_sexes, northwest_sexes, southeast_sexes, southwest_sexes)\n",
    "\n",
    "\n",
    "# Getting the sexes_count for each region\n",
    "NE_male_count, NE_female_count = sexes_count(northeast_sexes)\n",
    "NW_male_count, NW_female_count = sexes_count(northwest_sexes)\n",
    "SE_male_count, SE_female_count = sexes_count(southeast_sexes)\n",
    "SW_male_count, SW_female_count = sexes_count(southwest_sexes)\n",
    "\n",
    "print(\"There are \" + str(NE_male_count) + \" and \" + str(NE_female_count) + \" in the northeast\")\n",
    "print(\"There are \" + str(NW_male_count) + \" and \" + str(NW_female_count) + \" in the northwest\")\n",
    "print(\"There are \" + str(SE_male_count) + \" and \" + str(SE_female_count) + \" in the southeast\")\n",
    "print(\"There are \" + str(SW_male_count) + \" and \" + str(SW_female_count) + \" in the southwest\")"
   ]
  },
  {
   "cell_type": "markdown",
   "metadata": {},
   "source": [
    "There wasn't a hugh significant difference between the number of each sex in a region, which correlates with the ratio of males to females.\n",
    "\n",
    "Perhaps one could analyze the average charge between the two sexes and see which one has the higher average.\n",
    "\n",
    "It's also interesting to note that the southeast also has a higher population, which could play a role in why it has a higher average charge."
   ]
  },
  {
   "cell_type": "code",
   "execution_count": 583,
   "metadata": {},
   "outputs": [
    {
     "name": "stdout",
     "output_type": "stream",
     "text": [
      "The average age in the northeast region is: 39\n",
      "The average age in the northwest region is: 39\n",
      "The average age in the southeast region is: 38\n",
      "The average age in the southwest region is: 39\n"
     ]
    }
   ],
   "source": [
    "# Find average age in each region\n",
    "\n",
    "# Empty list of ages in each region\n",
    "northeast_ages = []\n",
    "northwest_ages = []\n",
    "southeast_ages = []\n",
    "southwest_ages = []\n",
    "\n",
    "\n",
    "# Calling region_values function to get values for each corresponding list\n",
    "region_values(region_list, age_list, northeast_ages, northwest_ages, southeast_ages, southwest_ages)\n",
    "\n",
    "# Find average charges in each region\n",
    "avg_age_northeast = int(average(northeast_ages, int))\n",
    "avg_age_northwest = int(average(northwest_ages, int))\n",
    "avg_age_southeast = int(average(southeast_ages, int))\n",
    "avg_age_southwest = int(average(southwest_ages, int))\n",
    "\n",
    "print(\"The average age in the northeast region is: \" + str(avg_age_northeast))\n",
    "print(\"The average age in the northwest region is: \" + str(avg_age_northwest))\n",
    "print(\"The average age in the southeast region is: \" + str(avg_age_southeast))\n",
    "print(\"The average age in the southwest region is: \" + str(avg_age_southwest))"
   ]
  },
  {
   "cell_type": "markdown",
   "metadata": {},
   "source": [
    "The average age in each region is equivalent or nearly identical to the average bmi of the insurance record as a whole.\n",
    "\n",
    "It might be best to ensure that the ages are not skewed or contain any outliers within the age_list."
   ]
  },
  {
   "cell_type": "code",
   "execution_count": 691,
   "metadata": {},
   "outputs": [],
   "source": [
    "import numpy as np\n",
    "# Function finding the median and IQR of an age_list\n",
    "def Median_IQR(age_list):\n",
    "    # Sorting the age_list from youngest to oldest\n",
    "\n",
    "    sorted_age_list = sorted(age_list)\n",
    "\n",
    "    res = [eval(i) for i in sorted_age_list]\n",
    "    \n",
    "    #calculate interquartile range \n",
    "    q3, q1 = np.percentile(res, [75 ,25])\n",
    "    iqr = q3 - q1\n",
    "    \n",
    "    return q1, q3, iqr"
   ]
  },
  {
   "cell_type": "markdown",
   "metadata": {},
   "source": [
    "This function using the numpy library to find the Q1, Q3, and IQR.\n",
    "\n",
    "The IQR can be used to see if there are any outliers within a list of values."
   ]
  },
  {
   "cell_type": "code",
   "execution_count": 706,
   "metadata": {},
   "outputs": [],
   "source": [
    "# Function that finds outliers\n",
    "def outliers(IQR, Q1, Q3, list, datatype):\n",
    "    outliers = []\n",
    "    \n",
    "    Q1_gate = Q1 - (1.5*IQR)\n",
    "\n",
    "    Q3_gate = Q3 + (1.5*IQR)\n",
    "\n",
    "    for i in list:\n",
    "        if datatype(i) < Q1_gate or datatype(i) > Q3_gate:\n",
    "            if i not in outliers:\n",
    "                outliers.append(datatype(i))\n",
    "        else:\n",
    "            return print(\"No outliers\")\n",
    "            \n",
    "    return outliers"
   ]
  },
  {
   "cell_type": "markdown",
   "metadata": {},
   "source": [
    "This function finds any outliers. Anything below the Q1_gate value or above the Q3_gate value is considered an outlier. If an outlier is found in the list, that value is placed in the outliers list and returned by the function. Otherwise, function returns \"No outliers\"."
   ]
  },
  {
   "cell_type": "code",
   "execution_count": 703,
   "metadata": {},
   "outputs": [
    {
     "name": "stdout",
     "output_type": "stream",
     "text": [
      "No outliers\n",
      "No outliers\n",
      "No outliers\n",
      "No outliers\n"
     ]
    }
   ],
   "source": [
    "# Find average age in each region\n",
    "\n",
    "# Empty list of ages in each region\n",
    "northeast_ages = []\n",
    "northwest_ages = []\n",
    "southeast_ages = []\n",
    "southwest_ages = []\n",
    "\n",
    "# Calling region_values function to get values for each corresponding list\n",
    "region_values(region_list, age_list, northeast_ages, northwest_ages, southeast_ages, southwest_ages)\n",
    "\n",
    "# Find average charges in each region\n",
    "northeast_Q1_age, northeast_Q3_age, northeast_age_IQR = Median_IQR(northeast_ages)\n",
    "northwest_Q1_age, northwest_Q3_age, northwest_age_IQR = Median_IQR(northwest_ages)\n",
    "southeast_Q1_age, southeast_Q3_age, southeast_age_IQR = Median_IQR(southeast_ages)\n",
    "southwest_Q1_age, southwest_Q3_age, southwest_age_IQR = Median_IQR(southwest_ages)\n",
    "\n",
    "northeast_outliers = outliers(northeast_age_IQR, northeast_Q1_age, northeast_Q3_age, northeast_ages, int)\n",
    "northwest_outliers = outliers(northwest_age_IQR, northwest_Q1_age, northwest_Q3_age, northwest_ages, int)\n",
    "southeast_outliers = outliers(southeast_age_IQR, southeast_Q1_age, southeast_Q3_age, southeast_ages, int)\n",
    "southwest_outliers = outliers(southwest_age_IQR, southwest_Q1_age, southwest_Q3_age, southwest_ages, int)\n"
   ]
  },
  {
   "cell_type": "markdown",
   "metadata": {},
   "source": [
    "There are no outliers affecting the average, but it's still possible that certain reoccuring values are skewing the data. Finding the mode of ages can show if that is true or not."
   ]
  },
  {
   "cell_type": "code",
   "execution_count": 728,
   "metadata": {},
   "outputs": [],
   "source": [
    "# Function that finds mode of ages in each region\n",
    "def mode(list):\n",
    "    dictionary = {}\n",
    "    \n",
    "    for i in list:\n",
    "        if i not in dictionary:\n",
    "            dictionary[i] = 1\n",
    "        else:\n",
    "            dictionary[i] += 1\n",
    "    \n",
    "    \n",
    "    for l in dictionary:\n",
    "        if dictionary[l] == max(dictionary.values()):\n",
    "            return l, dictionary[l]\n",
    "    "
   ]
  },
  {
   "cell_type": "markdown",
   "metadata": {},
   "source": [
    "Function that finds the mode in a list using a dictionary.\n",
    "\n",
    "It then returns the highest occuring value."
   ]
  },
  {
   "cell_type": "code",
   "execution_count": 730,
   "metadata": {},
   "outputs": [
    {
     "name": "stdout",
     "output_type": "stream",
     "text": [
      "('18', 128)\n",
      "('19', 136)\n",
      "('18', 148)\n",
      "('19', 124)\n"
     ]
    }
   ],
   "source": [
    "# Find the mode of the ages in each region\n",
    "northeast_age_mode = mode(northeast_ages)\n",
    "northwest_age_mode = mode(northwest_ages)\n",
    "southeast_age_mode = mode(southeast_ages)\n",
    "southwest_age_mode = mode(southwest_ages)\n",
    "\n",
    "print(northeast_age_mode)\n",
    "print(northwest_age_mode)\n",
    "print(southeast_age_mode)\n",
    "print(southwest_age_mode)"
   ]
  },
  {
   "cell_type": "markdown",
   "metadata": {},
   "source": [
    "It's evident that in each region, there is a disportionate amount of younger people to those that are older.\n",
    "This may skew the data and may misrepresent certain age groups. \n",
    "\n",
    "People at different age groups live different lives. A 19 year old and 45 year old are going to have very different BMIs, charges, number of children, etc.\n",
    "\n",
    "Perhaps an analysis can be made for certain age groups rather than analyzing all ages as a whole."
   ]
  },
  {
   "cell_type": "code",
   "execution_count": 619,
   "metadata": {
    "scrolled": true
   },
   "outputs": [
    {
     "name": "stdout",
     "output_type": "stream",
     "text": [
      "('32.3', 28)\n",
      "('28.31', 28)\n",
      "('38.06', 28)\n",
      "('34.8', 28)\n"
     ]
    }
   ],
   "source": [
    "# Find the mode of the BMIs in each region\n",
    "northeast_bmi_mode = mode(northeast_bmis)\n",
    "northwest_bmi_mode = mode(northwest_bmis)\n",
    "southeast_bmi_mode = mode(southeast_bmis)\n",
    "southwest_bmi_mode = mode(southwest_bmis)\n",
    "\n",
    "print(northeast_bmi_mode)\n",
    "print(northwest_bmi_mode)\n",
    "print(southeast_bmi_mode)\n",
    "print(southwest_bmi_mode)"
   ]
  },
  {
   "cell_type": "markdown",
   "metadata": {},
   "source": [
    "It's evident that the northeast has more high-level BMIs than the northwest, which had more reoccuring low-level BMIs.\n",
    "This might explain a bit why the northeast has the second highest average charge.\n",
    "\n",
    "\n",
    "We see that in the southeast, there is a high number of BMIs that are considered morbidly obese, which will result in higher insurance charges.\n",
    "\n",
    "It's strange that the southwest had higher levels of BMIs than the northeast, but the southwest's average charge was near the northwest's average charge. This still indicates that other factors in the northeast must be driving the cost. This region requires further anaylsis.\n",
    "\n"
   ]
  },
  {
   "cell_type": "code",
   "execution_count": 644,
   "metadata": {
    "scrolled": true
   },
   "outputs": [
    {
     "name": "stdout",
     "output_type": "stream",
     "text": [
      "('no', 1028)\n",
      "('no', 1068)\n",
      "('no', 1092)\n",
      "('no', 1068)\n"
     ]
    }
   ],
   "source": [
    "# Find the mode of the smokers in each region\n",
    "northeast_smoker_mode = mode(northeast_smokers)\n",
    "northwest_smoker_mode = mode(northwest_smokers)\n",
    "southeast_smoker_mode = mode(southeast_smokers)\n",
    "southwest_smoker_mode = mode(southwest_smokers)\n",
    "\n",
    "print(northeast_smoker_mode)\n",
    "print(northwest_smoker_mode)\n",
    "print(southeast_smoker_mode)\n",
    "print(southwest_smoker_mode)"
   ]
  },
  {
   "cell_type": "markdown",
   "metadata": {},
   "source": [
    "Again it's evident that there are more non-smokers to smokers, but it can be furher analyzed.\n",
    "\n",
    "It was shown that in the list of ages for each region, there is a large amount of 18-19 year olds. It would be interesting to analyze that age range to see how many smokers there are. Again, as stated previously, if there were a large amount of smokers prevelant in that age range, it could indicate that smoking could be on the rise again among the youth."
   ]
  },
  {
   "cell_type": "code",
   "execution_count": 720,
   "metadata": {
    "scrolled": true
   },
   "outputs": [
    {
     "name": "stdout",
     "output_type": "stream",
     "text": [
      "{'2': 204, '0': 588, '1': 308, '3': 156, '5': 12, '4': 28}\n",
      "{'0': 527, '3': 184, '2': 264, '1': 296, '4': 24, '5': 4}\n",
      "{'1': 380, '3': 140, '0': 628, '2': 264, '4': 20, '5': 24}\n",
      "{'0': 552, '1': 312, '2': 228, '5': 32, '3': 148, '4': 28}\n",
      "0\n",
      "0\n",
      "0\n",
      "0\n"
     ]
    }
   ],
   "source": [
    "# Find the mode of the children in each region\n",
    "northeast_children_mode = mode(northeast_children)\n",
    "northwest_children_mode = mode(northwest_children)\n",
    "southeast_children_mode = mode(southeast_children)\n",
    "southwest_children_mode = mode(southwest_children)\n",
    "\n",
    "print(northeast_children_mode)\n",
    "print(northwest_children_mode)\n",
    "print(southeast_children_mode)\n",
    "print(southwest_children_mode)"
   ]
  },
  {
   "cell_type": "markdown",
   "metadata": {},
   "source": [
    "Just like the mode of ages was skewed, we see the mode of the number of children is also skewed. There are a large number of people included without children. This can misrepresent an analysis of patients with children, it's probably best to exclude those without children.\n",
    "\n",
    "It would also be interesting to see the comparison of the number of children to the charge each patient has."
   ]
  },
  {
   "cell_type": "code",
   "execution_count": 634,
   "metadata": {},
   "outputs": [],
   "source": [
    "# Function for creating dictionaries\n",
    "def create_dictionary(dictionary, attribute, attribute_list):\n",
    "    dictionary[attribute] = attribute_list\n",
    "    return dictionary"
   ]
  },
  {
   "cell_type": "code",
   "execution_count": 847,
   "metadata": {},
   "outputs": [],
   "source": [
    "# Creating dictionaries for each region\n",
    "northeast_records = {}\n",
    "northwest_records = {}\n",
    "southeast_records = {}\n",
    "southwest_records = {}\n",
    "\n",
    "# Attribute names intended to be used as keys in the dictionary and arranged in a list to be used in the for loop\n",
    "attributes = ['age', 'sex', 'bmi', 'children', 'smoker', 'charges']\n",
    "\n",
    "# List of each region's attribute lists, which will be used in the for loop.\n",
    "NE_attributes_list = [northeast_ages, northeast_sexes, northeast_bmis, northeast_children,\n",
    "                      northeast_smokers, northeast_charges]\n",
    "NW_attributes_list = [northwest_ages, northwest_sexes, northwest_bmis, northwest_children,\n",
    "                      northwest_smokers, northwest_charges]\n",
    "SE_attributes_list = [southeast_ages, southeast_sexes, southeast_bmis, southeast_children,\n",
    "                      southeast_smokers, southeast_charges]\n",
    "SW_attributes_list = [southwest_ages, southwest_sexes, southwest_bmis, southwest_children,\n",
    "                      southwest_smokers, southwest_charges]\n",
    "\n",
    "# For loop created for each region dictionary\n",
    "for a,b in zip(attributes, NE_attributes_list):\n",
    "    create_dictionary(northeast_records, a, b)\n",
    "    \n",
    "for a,b in zip(attributes, NW_attributes_list):\n",
    "    create_dictionary(northwest_records, a, b)\n",
    "\n",
    "for a,b in zip(attributes, SE_attributes_list):\n",
    "    create_dictionary(southeast_records, a, b)\n",
    "\n",
    "for a,b in zip(attributes, SW_attributes_list):\n",
    "    create_dictionary(southwest_records, a, b)\n"
   ]
  },
  {
   "cell_type": "markdown",
   "metadata": {},
   "source": [
    "The ***create_dictionary*** function is used, taking in the parameters ***dictionary***, ***attribute***, ***attribute_list***. The function creates a dictionary of lists. Each attribute is a key, and the value of that key is the corresponding attribute list.\n",
    "\n",
    "In the case directly above, dictionaries are created for each region using for loops and the ***create_dictionary*** function. This will allow an analysis of particular region if one ever wanted to do so in the future."
   ]
  },
  {
   "cell_type": "code",
   "execution_count": 848,
   "metadata": {},
   "outputs": [],
   "source": [
    "# Creating a dictionary of the medical insurance record\n",
    "insurance_records = {}\n",
    "\n",
    "attributes = ['age', 'sex', 'bmi', 'children', 'smoker', 'region', 'charges']\n",
    "attributes_list = [age_list, sexes_list, bmi_list, children_list, smoker_list, charges_list]\n",
    "\n",
    "\n",
    "for a,b in zip(attributes, attributes_list):\n",
    "    create_dictionary(insurance_records, a, b)\n",
    "\n"
   ]
  },
  {
   "cell_type": "markdown",
   "metadata": {},
   "source": [
    "The medical records from ***insurance.csv*** are conviently organized into a dictionary, ***insurance_records***.\n",
    "Each row in ***insurance_records*** represents a patient in the file. \n",
    "\n",
    "It might also be beneficial to organize a dictionary by ages and their corresponding attributes. You could for example, analyze the average bmi for 30 year olds, or the average charge for 64 years."
   ]
  },
  {
   "cell_type": "code",
   "execution_count": 760,
   "metadata": {},
   "outputs": [],
   "source": [
    "# Function for finding average insurance charge for smokers in each region\n",
    "def average_smoker_charge(region_dictionary, smoker_count):\n",
    "    \n",
    "    sum_charge = 0\n",
    "    length = len(region_dictionary['smoker'])\n",
    "    \n",
    "    for i in range(0,length-1):\n",
    "        if region_dictionary['smoker'][i] == 'yes':\n",
    "            sum_charge += float(region_dictionary['charges'][i])\n",
    "        \n",
    "    average = round(sum_charge / smoker_count,2)\n",
    "    \n",
    "    return average"
   ]
  },
  {
   "cell_type": "code",
   "execution_count": 761,
   "metadata": {
    "scrolled": true
   },
   "outputs": [
    {
     "name": "stdout",
     "output_type": "stream",
     "text": [
      "The average insurance charge for smokers in the northeast is: 29673.54\n",
      "The average insurance charge for smokers in the northwest is: 30196.55\n",
      "The average insurance charge for smokers in the southeast is: 34845.0\n",
      "The average insurance charge for smokers in the southwest is: 20567.1\n"
     ]
    }
   ],
   "source": [
    "NE_smoker_avg = average_smoker_charge(northeast_records, NE_smoker_count)\n",
    "NW_smoker_avg = average_smoker_charge(northwest_records, NW_smoker_count)\n",
    "SE_smoker_avg = average_smoker_charge(southeast_records, SE_smoker_count)\n",
    "SW_smoker_avg = average_smoker_charge(southwest_records, SW_smoker_count)\n",
    "\n",
    "print(\"The average insurance charge for smokers in the northeast is: \" + str(NE_smoker_avg))\n",
    "print(\"The average insurance charge for smokers in the northwest is: \" + str(NW_smoker_avg))\n",
    "print(\"The average insurance charge for smokers in the southeast is: \" + str(SE_smoker_avg))\n",
    "print(\"The average insurance charge for smokers in the southwest is: \" + str(SW_smoker_avg))"
   ]
  },
  {
   "cell_type": "markdown",
   "metadata": {},
   "source": [
    "The function ***average_smoker_charge*** is used to find the average insurace charge among smokers in each region.\n",
    "\n",
    "Recall that the both the southeast and the southwest had an equal number of smokers. However, we see here that the averages differ greatly (almost a $14k difference).\n",
    "\n",
    "There must be other factors affecting the insurance charge in the regions. However, the two regions barely differed in attributes except for BMI and population size. There could also be values skewing the average insurance charge."
   ]
  },
  {
   "cell_type": "code",
   "execution_count": 759,
   "metadata": {},
   "outputs": [],
   "source": [
    "# Function for finding average insurance charge for each sex in each region\n",
    "def average_sexes_charge(region_dictionary, male_count, female_count):\n",
    "    \n",
    "    male_sum = 0\n",
    "    female_sum = 0\n",
    "    length_male = 0\n",
    "    length_female = 0\n",
    "    \n",
    "    for i in range(0,len(region_dictionary['sex'])-1):\n",
    "        if region_dictionary['sex'][i] == 'male':\n",
    "            male_sum += float(region_dictionary['charges'][i])\n",
    "            length_male += 1\n",
    "    \n",
    "    \n",
    "    for i in range(0,len(region_dictionary['sex'])-1):\n",
    "        if region_dictionary['smoker'][i] == 'yes':\n",
    "            female_sum += float(region_dictionary['charges'][i])\n",
    "            length_female += 1\n",
    "    \n",
    "    average_male = round(male_sum / length_male,2)\n",
    "    average_female = round(female_sum / length_female,2)\n",
    "    \n",
    "    return average_male, average_female"
   ]
  },
  {
   "cell_type": "code",
   "execution_count": 749,
   "metadata": {
    "scrolled": false
   },
   "outputs": [
    {
     "name": "stdout",
     "output_type": "stream",
     "text": [
      "Average charge for males in the northeast was: 13854.01. Average charge for females: 29673.54\n",
      "Average charge for males in the northwest was: 12354.12. Average charge for females: 30196.55\n",
      "Average charge for males in the southeast was: 15879.62. Average charge for females: 34845.0\n",
      "Average charge for males in the southwest was: 13412.88. Average charge for females: 32269.06\n"
     ]
    }
   ],
   "source": [
    "NE_male_avg, NE_female_avg = average_sexes_charge(northeast_records, NE_male_count, NE_female_count)\n",
    "NW_male_avg, NW_female_avg = average_sexes_charge(northwest_records, NW_male_count, NW_female_count)\n",
    "SE_male_avg, SE_female_avg = average_sexes_charge(southeast_records, SE_male_count, SE_female_count)\n",
    "SW_male_avg, SW_female_avg = average_sexes_charge(southwest_records, SW_male_count, SW_female_count)\n",
    "\n",
    "print(\"Average charge for males in the northeast was: \" + str(NE_male_avg) +\n",
    "      \". Average charge for females: \" + str(NE_female_avg))\n",
    "print(\"Average charge for males in the northwest was: \" + str(NW_male_avg) +\n",
    "      \". Average charge for females: \" + str(NW_female_avg))\n",
    "print(\"Average charge for males in the southeast was: \" + str(SE_male_avg) +\n",
    "      \". Average charge for females: \" + str(SE_female_avg))\n",
    "print(\"Average charge for males in the southwest was: \" + str(SW_male_avg) +\n",
    "      \". Average charge for females: \" + str(SW_female_avg))"
   ]
  },
  {
   "cell_type": "markdown",
   "metadata": {},
   "source": [
    "The average charge for each sex in each region was found using the ***average_sexes_charge*** function.\n",
    "It's clear that females are charged higher than males. The region with the highest charge for both males and females was the southeast region."
   ]
  },
  {
   "cell_type": "code",
   "execution_count": 852,
   "metadata": {},
   "outputs": [],
   "source": [
    "# Function for finding average insurance charge for each age in each region\n",
    "def age_to_avg(region_dictionary):\n",
    "    \n",
    "    age_to_charges = {}\n",
    " \n",
    "    age_count = {}\n",
    "    \n",
    "    age_to_avg = {}\n",
    "    \n",
    "    min_avg = 1000000\n",
    "    min_age = 0\n",
    "    \n",
    "    max_avg = 0\n",
    "    max_age = 0\n",
    "    \n",
    "    length = len(region_dictionary['age'])\n",
    "    \n",
    "    # For loop that creates a dictionary that has the ages as keys and the sum of corresponding charges as values\n",
    "    # It also creates a dictionary that has ages as keys and their occurences as values\n",
    "    for i in range(0,length-1):\n",
    "        if (region_dictionary['age'][i]) not in age_to_charges:\n",
    "            age_to_charges[region_dictionary['age'][i]] = float(region_dictionary['charges'][i])\n",
    "            age_count[region_dictionary['age'][i]] = 1\n",
    "        else:\n",
    "            age_to_charges[region_dictionary['age'][i]] += float(region_dictionary['charges'][i])\n",
    "            age_count[region_dictionary['age'][i]] += 1\n",
    "    \n",
    "    \n",
    "    for i in range(0, len(age_to_charges)-1):\n",
    "        age_to_avg[region_dictionary['age'][i]] = round(float(age_to_charges[region_dictionary['age'][i]]) / \n",
    "                                                        int(age_count[region_dictionary['age'][i]]),2)\n",
    "   \n",
    "    # For loop that goes through age_to_avg dictionary to find the min and max average with their corresponding ages    \n",
    "    for i in age_to_avg:\n",
    "        if min_avg > age_to_avg[i]:\n",
    "            min_avg = age_to_avg[i]\n",
    "            min_age = i\n",
    "        \n",
    "        if max_avg < (age_to_avg[i]):\n",
    "            max_avg = age_to_avg[i]\n",
    "            max_age = i\n",
    "    \n",
    "    return max_age, max_avg, min_age, min_avg"
   ]
  },
  {
   "cell_type": "code",
   "execution_count": 854,
   "metadata": {},
   "outputs": [
    {
     "name": "stdout",
     "output_type": "stream",
     "text": [
      "('59', 21787.62, '22', 2952.24)\n",
      "('60', 22740.42, '26', 3157.81)\n",
      "('61', 30238.46, '21', 4056.66)\n",
      "('64', 27669.87, '35', 5298.23)\n"
     ]
    }
   ],
   "source": [
    "# Finds the max_avg with its corresponding age. Also returns the min_avg with its corresponding age\n",
    "NE_max_age_avg = age_to_avg(northeast_records)\n",
    "NW_max_age_avg = age_to_avg(northwest_records)\n",
    "SE_max_age_avg = age_to_avg(southeast_records)\n",
    "SW_max_age_avg = age_to_avg(southwest_records)\n",
    "\n",
    "# Displays (age with max average) and (age with lowest average)\n",
    "print(NE_max_age_avg)\n",
    "print(NW_max_age_avg)\n",
    "print(SE_max_age_avg)\n",
    "print(SW_max_age_avg)"
   ]
  },
  {
   "cell_type": "markdown",
   "metadata": {},
   "source": [
    "Here we can see that the older you are, the higher your insurance charge will be, while the younger you are, the lower the charge will be.\n",
    "\n",
    "Again we see that the southeast has the highest numbers, while also having the highest BMIs out of the regions."
   ]
  },
  {
   "cell_type": "code",
   "execution_count": 729,
   "metadata": {
    "scrolled": false
   },
   "outputs": [
    {
     "name": "stdout",
     "output_type": "stream",
     "text": [
      "('6406.4107', 4)\n",
      "('1639.5631', 8)\n",
      "('1725.5523', 4)\n",
      "('16884.924', 4)\n",
      "No outliers\n",
      "No outliers\n",
      "No outliers\n",
      "No outliers\n",
      "None\n",
      "None\n",
      "None\n",
      "None\n"
     ]
    }
   ],
   "source": [
    "# Find the mode of the charges in each region\n",
    "northeast_charge_mode = mode(northeast_charges)\n",
    "northwest_charge_mode = mode(northwest_charges)\n",
    "southeast_charge_mode = mode(southeast_charges)\n",
    "southwest_charge_mode = mode(southwest_charges)\n",
    "\n",
    "# Displays charge that occurs the most in each region\n",
    "print(northeast_charge_mode)\n",
    "print(northwest_charge_mode)\n",
    "print(southeast_charge_mode)\n",
    "print(southwest_charge_mode)\n",
    "\n",
    "\n",
    "# Obtains Q1, Q3, IQR in each region\n",
    "northeast_Q1_charge, northeast_Q3_charge, northeast_charge_IQR = Median_IQR(northeast_charges)\n",
    "northwest_Q1_charge, northwest_Q3_charge, northwest_charge_IQR = Median_IQR(northwest_charges)\n",
    "southeast_Q1_charge, southeast_Q3_charge, southeast_charge_IQR = Median_IQR(southeast_charges)\n",
    "southwest_Q1_charge, southwest_Q3_charge, southwest_charge_IQR = Median_IQR(southwest_charges)\n",
    "\n",
    "# Finds outliers in each region\n",
    "northeast_outliers = outliers(northeast_Q1_charge, northeast_Q3_charge, northeast_charge_IQR, northeast_charges, float)\n",
    "northwest_outliers = outliers(northwest_Q1_charge, northwest_Q3_charge, northwest_charge_IQR, northwest_charges, float)\n",
    "southeast_outliers = outliers(southeast_Q1_charge, southeast_Q3_charge, southeast_charge_IQR, southeast_charges, float)\n",
    "southwest_outliers = outliers(southwest_Q1_charge, southwest_Q3_charge, southwest_charge_IQR, southwest_charges, float)\n",
    "\n",
    "# Displays if there are any outliers in each region\n",
    "print(northeast_outliers)\n",
    "print(northwest_outliers)\n",
    "print(southeast_outliers)\n",
    "print(southwest_outliers)"
   ]
  },
  {
   "cell_type": "markdown",
   "metadata": {},
   "source": [
    "There are no outliers for the charges within each region. It's interesting to note that for the northwest region, there are 8 occurences of low insurance charges. Lower charges could skew the averages to be lower which could explain why the northwest had lower averages out of the other three regions.\n",
    "\n",
    "It's evident that BMI has a high influence on the insurance charge.\n",
    "\n",
    "It was shown that both the southern regions had the same number of smokers, but the southwest had a significantly lower average insurance charge for smokers.\n",
    "\n",
    "We saw that several times that the average charge for each attribute, in each region, was always highest in the southeast, which also had the highest BMI.\n",
    "\n",
    "I would predict that if the average charge for the number of children, in each region were taken, we would see again that the southeast would have a higher average insurance charge, out of the other regions.\n",
    "\n",
    "It's safe to say that a patient who lowers their BMI will see a signficant decrease in their insurance charge. The same can be said for smoking. This is because health risks increase your risks of diseases, which drive up insurance costs.\n",
    "\n",
    "The most interesting analysis found is that there is a significant difference between the average charge for males versus the average charge for females. It would be fascinating to understand why insurance companies charge more for women. Are insurance companies sexist, or are there health factors that differ between men and women that lead to higher insurance costs?\n",
    "\n",
    "As you can see, there is still room for further anaylsis."
   ]
  }
 ],
 "metadata": {
  "kernelspec": {
   "display_name": "Python 3 (ipykernel)",
   "language": "python",
   "name": "python3"
  },
  "language_info": {
   "codemirror_mode": {
    "name": "ipython",
    "version": 3
   },
   "file_extension": ".py",
   "mimetype": "text/x-python",
   "name": "python",
   "nbconvert_exporter": "python",
   "pygments_lexer": "ipython3",
   "version": "3.9.13"
  }
 },
 "nbformat": 4,
 "nbformat_minor": 4
}
